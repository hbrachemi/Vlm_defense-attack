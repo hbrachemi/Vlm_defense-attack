{
 "cells": [
  {
   "cell_type": "code",
   "execution_count": 1,
   "id": "c740e1e4-08ba-45f9-93cd-59de50420d65",
   "metadata": {},
   "outputs": [],
   "source": [
    "from ImageNet import *\n",
    "\n",
    "db_path = \"/data/lab_ietr/hbrachem/ImageNet/\"\n",
    "dataset = ImageNet_dataset(os.path.join(db_path,\"serialized_val.pickle\"),db_path=os.path.join(db_path,\"ILSVRC/Data/CLS-LOC/val/\"))"
   ]
  },
  {
   "cell_type": "code",
   "execution_count": 2,
   "id": "24b60d68-365e-4c91-8288-c525206607e6",
   "metadata": {},
   "outputs": [
    {
     "name": "stderr",
     "output_type": "stream",
     "text": [
      "2024-09-10 10:17:01.210077: I tensorflow/core/util/port.cc:113] oneDNN custom operations are on. You may see slightly different numerical results due to floating-point round-off errors from different computation orders. To turn them off, set the environment variable `TF_ENABLE_ONEDNN_OPTS=0`.\n",
      "2024-09-10 10:17:01.225706: E external/local_xla/xla/stream_executor/cuda/cuda_fft.cc:479] Unable to register cuFFT factory: Attempting to register factory for plugin cuFFT when one has already been registered\n",
      "2024-09-10 10:17:01.248142: E external/local_xla/xla/stream_executor/cuda/cuda_dnn.cc:10575] Unable to register cuDNN factory: Attempting to register factory for plugin cuDNN when one has already been registered\n",
      "2024-09-10 10:17:01.248174: E external/local_xla/xla/stream_executor/cuda/cuda_blas.cc:1442] Unable to register cuBLAS factory: Attempting to register factory for plugin cuBLAS when one has already been registered\n",
      "2024-09-10 10:17:01.262732: I tensorflow/core/platform/cpu_feature_guard.cc:210] This TensorFlow binary is optimized to use available CPU instructions in performance-critical operations.\n",
      "To enable the following instructions: AVX2 AVX512F AVX512_VNNI FMA, in other operations, rebuild TensorFlow with the appropriate compiler flags.\n",
      "2024-09-10 10:17:02.225209: W tensorflow/compiler/tf2tensorrt/utils/py_utils.cc:38] TF-TRT Warning: Could not find TensorRT\n",
      "/home-reseau/hbrachem/miniconda3/envs/py311env/lib/python3.11/site-packages/huggingface_hub/file_download.py:1132: FutureWarning: `resume_download` is deprecated and will be removed in version 1.0.0. Downloads always resume when possible. If you want to force a new download, use `force_download=True`.\n",
      "  warnings.warn(\n"
     ]
    },
    {
     "data": {
      "application/vnd.jupyter.widget-view+json": {
       "model_id": "d7e0ad775a954f77a1c2337ac9fffa78",
       "version_major": 2,
       "version_minor": 0
      },
      "text/plain": [
       "Loading checkpoint shards:   0%|          | 0/3 [00:00<?, ?it/s]"
      ]
     },
     "metadata": {},
     "output_type": "display_data"
    },
    {
     "name": "stderr",
     "output_type": "stream",
     "text": [
      "/home-reseau/hbrachem/miniconda3/envs/py311env/lib/python3.11/site-packages/huggingface_hub/file_download.py:1132: FutureWarning: `resume_download` is deprecated and will be removed in version 1.0.0. Downloads always resume when possible. If you want to force a new download, use `force_download=True`.\n",
      "  warnings.warn(\n",
      "Special tokens have been added in the vocabulary, make sure the associated word embeddings are fine-tuned or trained.\n"
     ]
    }
   ],
   "source": [
    "from model_utils import *\n",
    "\n",
    "vlm = 'Llava-7b'\n",
    "model,processor = vlm_pretrained(vlm)\n",
    "device = model.device"
   ]
  },
  {
   "cell_type": "code",
   "execution_count": 3,
   "id": "d8a2acb2-0b74-4290-892a-697b004598bf",
   "metadata": {},
   "outputs": [],
   "source": [
    "encoder = encoder_QKV(vlm,model)\n",
    "w = processor.image_processor.crop_size['width']\n",
    "h = processor.image_processor.crop_size['height']\n",
    "patch_dim = 14"
   ]
  },
  {
   "cell_type": "code",
   "execution_count": 9,
   "id": "c50dc2a3-970f-4022-a59c-83738a288bb2",
   "metadata": {},
   "outputs": [],
   "source": [
    "num_targeted_layer = 2\n",
    "\n",
    "attack_config = {\n",
    "    'lr':\"1e-3\",\n",
    "    'component': 'encoder',\n",
    "    'layers':f\"{num_targeted_layer}F\",\n",
    "    'bounding_box':'scaled*336',\n",
    "    'algo':  \"min_att\",\n",
    "    'loss':\"att_mean\",\n",
    "    'optimizer':'adam',\n",
    "    'steps':1000,\n",
    "    'checkpoint':250,\n",
    "}\n",
    "\n",
    "target_layers_v = encoder[\"V\"][:num_targeted_layer]\n",
    "target_layers_k = encoder[\"K\"][:num_targeted_layer]\n",
    "target_layers_q = encoder[\"Q\"][:num_targeted_layer]"
   ]
  },
  {
   "cell_type": "code",
   "execution_count": 10,
   "id": "f0aa8da7-69f2-4135-b1e3-ab58dbb628dc",
   "metadata": {},
   "outputs": [
    {
     "name": "stderr",
     "output_type": "stream",
     "text": [
      "huggingface/tokenizers: The current process just got forked, after parallelism has already been used. Disabling parallelism to avoid deadlocks...\n",
      "To disable this warning, you can either:\n",
      "\t- Avoid using `tokenizers` before the fork if possible\n",
      "\t- Explicitly set the environment variable TOKENIZERS_PARALLELISM=(true | false)\n",
      "huggingface/tokenizers: The current process just got forked, after parallelism has already been used. Disabling parallelism to avoid deadlocks...\n",
      "To disable this warning, you can either:\n",
      "\t- Avoid using `tokenizers` before the fork if possible\n",
      "\t- Explicitly set the environment variable TOKENIZERS_PARALLELISM=(true | false)\n"
     ]
    },
    {
     "name": "stdout",
     "output_type": "stream",
     "text": [
      "mkdir: cannot create directory ‘ablation_study/llava_encoder_2F/algo_min_att/att_mean/adam_1e-3/adv_img’: File exists\n",
      "mkdir: cannot create directory ‘ablation_study/llava_encoder_2F/algo_min_att/att_mean/adam_1e-3/hist’: File exists\n"
     ]
    },
    {
     "name": "stderr",
     "output_type": "stream",
     "text": [
      "huggingface/tokenizers: The current process just got forked, after parallelism has already been used. Disabling parallelism to avoid deadlocks...\n",
      "To disable this warning, you can either:\n",
      "\t- Avoid using `tokenizers` before the fork if possible\n",
      "\t- Explicitly set the environment variable TOKENIZERS_PARALLELISM=(true | false)\n",
      "huggingface/tokenizers: The current process just got forked, after parallelism has already been used. Disabling parallelism to avoid deadlocks...\n"
     ]
    },
    {
     "name": "stdout",
     "output_type": "stream",
     "text": [
      "mkdir: cannot create directory ‘ablation_study/llava_encoder_2F/algo_min_att/att_mean/adam_1e-3/predictions’: File exists\n"
     ]
    },
    {
     "name": "stderr",
     "output_type": "stream",
     "text": [
      "To disable this warning, you can either:\n",
      "\t- Avoid using `tokenizers` before the fork if possible\n",
      "\t- Explicitly set the environment variable TOKENIZERS_PARALLELISM=(true | false)\n"
     ]
    },
    {
     "name": "stdout",
     "output_type": "stream",
     "text": [
      "mkdir: cannot create directory ‘ablation_study/llava_encoder_2F/algo_min_att/att_mean/adam_1e-3/best’: File exists\n"
     ]
    },
    {
     "name": "stderr",
     "output_type": "stream",
     "text": [
      "huggingface/tokenizers: The current process just got forked, after parallelism has already been used. Disabling parallelism to avoid deadlocks...\n",
      "To disable this warning, you can either:\n",
      "\t- Avoid using `tokenizers` before the fork if possible\n",
      "\t- Explicitly set the environment variable TOKENIZERS_PARALLELISM=(true | false)\n"
     ]
    }
   ],
   "source": [
    "path = f\"ablation_study/llava_{attack_config['component']}_{attack_config['layers']}/algo_{attack_config['algo']}/{attack_config['loss']}/{attack_config['optimizer']}_{attack_config['lr']}\"\n",
    "\n",
    "!mkdir -p $path\n",
    "folder = path+'/adv_img'\n",
    "!mkdir $folder\n",
    "folder = path+'/hist'\n",
    "!mkdir $folder\n",
    "folder = path+'/predictions'\n",
    "!mkdir $folder\n",
    "folder = path+'/best'\n",
    "!mkdir $folder"
   ]
  },
  {
   "cell_type": "code",
   "execution_count": 11,
   "id": "43bcd552-e41b-48f7-a191-f9d52fa30b13",
   "metadata": {},
   "outputs": [],
   "source": [
    "from attack_utils import *"
   ]
  },
  {
   "cell_type": "code",
   "execution_count": 12,
   "id": "cbb10b6c-d454-4139-ba55-6f5515a9dd58",
   "metadata": {},
   "outputs": [],
   "source": [
    "import numpy as np"
   ]
  },
  {
   "cell_type": "code",
   "execution_count": null,
   "id": "7bf2954b-243b-47e4-95ca-8f20846a566a",
   "metadata": {},
   "outputs": [
    {
     "name": "stdout",
     "output_type": "stream",
     "text": [
      "Processing sample number 0...\n"
     ]
    },
    {
     "name": "stderr",
     "output_type": "stream",
     "text": [
      " 10%|▉         | 95/1000 [02:26<23:19,  1.55s/it]"
     ]
    }
   ],
   "source": [
    "for i ,[image,label,boxes,img_name] in enumerate(dataset):\n",
    "    print(f\"Processing sample number {i}...\")\n",
    "    if i == 50:\n",
    "        break\n",
    "        \n",
    "    image = image.convert('RGB').resize((w,h))\n",
    "    ref = np.array(image.convert('RGB')).copy()\n",
    "    boxes = bounding_box_new_position(image,boxes,w,h)\n",
    "\n",
    "    parametters = {'image':image}\n",
    "    parametters['label'] = label\n",
    "    parametters['boxes'] = boxes\n",
    "    parametters['model'] = model\n",
    "    parametters['processor'] = processor\n",
    "    parametters['optimizer'] = attack_config[\"optimizer\"]\n",
    "    parametters['lr'] = float(attack_config['lr'])\n",
    "    parametters['target_layers_q'] = target_layers_q\n",
    "    parametters['target_layers_k'] = target_layers_k\n",
    "    parametters['target_layers_v'] = target_layers_v\n",
    "    parametters['lambda_a'] = 1\n",
    "    parametters['lambda_e'] = 0\n",
    "    parametters['lambda_n'] = 0\n",
    "    parametters['w'] = w\n",
    "    parametters['h'] = h\n",
    "    parametters['patch_dim'] = patch_dim\n",
    "    parametters['steps'] = attack_config[\"steps\"]\n",
    "    parametters['checkpoint'] = attack_config[\"checkpoint\"]\n",
    "    parametters['path'] = path\n",
    "    parametters['img_name'] = img_name\n",
    "    \n",
    "    best_image, exec_time = generate_adv_image(**parametters)\n",
    "\n",
    "    print(f\"execution_time: {exec_time}\")\n",
    "    \n",
    "    \n",
    "    "
   ]
  },
  {
   "cell_type": "code",
   "execution_count": null,
   "id": "83340aaa-3131-4978-9f6e-e9dbde095979",
   "metadata": {},
   "outputs": [],
   "source": []
  },
  {
   "cell_type": "code",
   "execution_count": null,
   "id": "3a2b16c7-6d8f-4897-84ac-d7bc49dc81e9",
   "metadata": {},
   "outputs": [],
   "source": []
  },
  {
   "cell_type": "code",
   "execution_count": null,
   "id": "0493fc26-bd43-4ae6-ba4a-ef0817897b96",
   "metadata": {},
   "outputs": [],
   "source": []
  }
 ],
 "metadata": {
  "kernelspec": {
   "display_name": "Python 3 (ipykernel)",
   "language": "python",
   "name": "python3"
  },
  "language_info": {
   "codemirror_mode": {
    "name": "ipython",
    "version": 3
   },
   "file_extension": ".py",
   "mimetype": "text/x-python",
   "name": "python",
   "nbconvert_exporter": "python",
   "pygments_lexer": "ipython3",
   "version": "3.11.9"
  }
 },
 "nbformat": 4,
 "nbformat_minor": 5
}
